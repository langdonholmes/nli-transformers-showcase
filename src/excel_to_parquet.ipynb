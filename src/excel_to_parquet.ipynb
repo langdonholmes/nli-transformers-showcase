{
 "cells": [
  {
   "cell_type": "code",
   "execution_count": 1,
   "id": "c670eaa2-c82a-4b64-a240-c0b85f60f049",
   "metadata": {},
   "outputs": [],
   "source": [
    "import pandas as pd\n",
    "from pathlib import Path"
   ]
  },
  {
   "cell_type": "code",
   "execution_count": 3,
   "id": "e156dc40-09f5-42c1-b5d4-20f75a350162",
   "metadata": {},
   "outputs": [],
   "source": [
    "DB1 = '~/shared/2022_10_11_EFCAMDAT/data/EFCAMDAT_Shatz-2020_distro/Final database (main prompts).xlsx'\n",
    "DB2 = '~/shared/2022_10_11_EFCAMDAT/data/EFCAMDAT_Shatz-2020_distro/Final database (alternative prompts).xlsx'\n",
    "\n",
    "db1 = pd.read_excel(DB1)\n",
    "db2 = pd.read_excel(DB2)"
   ]
  },
  {
   "cell_type": "code",
   "execution_count": 4,
   "id": "7888f2a5-b7dd-4a5d-8721-5a2f63e8a7a7",
   "metadata": {},
   "outputs": [
    {
     "data": {
      "text/plain": [
       "Index(['writing_id', 'learner_id', 'learner_id_categorical', 'nationality',\n",
       "       'l1', 'cefr', 'cefr_numeric', 'level', 'unit', 'topic_id_original',\n",
       "       'topic_id_original_categorical', 'topic_id', 'topic_id_categorical',\n",
       "       'text_number_per_learner_in_task', 'topic', 'secondary_topic',\n",
       "       'topic_to_keep', 'date', 'time', 'grade', 'wordcount', 'mtld', 'text',\n",
       "       'text_corrected', 'sample'],\n",
       "      dtype='object')"
      ]
     },
     "execution_count": 4,
     "metadata": {},
     "output_type": "execute_result"
    }
   ],
   "source": [
    "db1['sample'] = 'main'\n",
    "db2['sample'] = 'alternative'\n",
    "df = pd.concat([db1, db2]).reset_index(drop=True)\n",
    "df.columns"
   ]
  },
  {
   "cell_type": "code",
   "execution_count": 6,
   "id": "57c048c9-9b3f-4a8d-90a6-45e604b988fa",
   "metadata": {},
   "outputs": [],
   "source": [
    "df.to_parquet('/home/jovyan/shared/2022_10_11_EFCAMDAT/data/efcamdat_shatz_distro.parquet')"
   ]
  },
  {
   "cell_type": "code",
   "execution_count": null,
   "id": "10887a96-3dcc-4eb1-b778-e77abf754b8a",
   "metadata": {},
   "outputs": [],
   "source": []
  }
 ],
 "metadata": {
  "kernelspec": {
   "display_name": "Python [conda env:data]",
   "language": "python",
   "name": "conda-env-data-py"
  },
  "language_info": {
   "codemirror_mode": {
    "name": "ipython",
    "version": 3
   },
   "file_extension": ".py",
   "mimetype": "text/x-python",
   "name": "python",
   "nbconvert_exporter": "python",
   "pygments_lexer": "ipython3",
   "version": "3.10.5"
  }
 },
 "nbformat": 4,
 "nbformat_minor": 5
}
